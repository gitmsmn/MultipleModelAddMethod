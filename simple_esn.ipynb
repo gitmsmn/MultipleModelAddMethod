{
 "cells": [
  {
   "cell_type": "code",
   "execution_count": 1,
   "id": "eb354049-5eb5-4299-ba92-b129d100e76f",
   "metadata": {},
   "outputs": [],
   "source": [
    "# ライブラリインポート\n",
    "\n",
    "## 基本ライブラリ\n",
    "import numpy as np\n",
    "import pandas as pd\n",
    "import matplotlib.pyplot as plt\n",
    "\n",
    "## 分解\n",
    "import scipy.stats\n",
    "from sklearn.model_selection import train_test_split\n",
    "import my_function\n",
    "\n",
    "## 学習\n",
    "from esn_model import ESN, Tikhonov\n",
    "import time"
   ]
  },
  {
   "cell_type": "code",
   "execution_count": 2,
   "id": "72376d9b-33ed-4a3e-b1aa-26323e2663b0",
   "metadata": {},
   "outputs": [
    {
     "name": "stdout",
     "output_type": "stream",
     "text": [
      "        Month  Passengers\n",
      "0  1949-01-01         112\n",
      "1  1949-02-01         118\n",
      "2  1949-03-01         132\n",
      "3  1949-04-01         129\n",
      "4  1949-05-01         121\n",
      "0    112\n",
      "1    118\n",
      "2    132\n",
      "3    129\n",
      "4    121\n",
      "Name: Passengers, dtype: int64\n"
     ]
    }
   ],
   "source": [
    "# データ読み込み\n",
    "\n",
    "## csv読み込み\n",
    "df = pd.read_csv('./available_csv/AirPassengers.csv')\n",
    "print(df.head())\n",
    "\n",
    "## データ整形（必要であれば）\n",
    "df = df['Passengers']\n",
    "print(df.head())"
   ]
  },
  {
   "cell_type": "code",
   "execution_count": 3,
   "id": "7479eb4c-4797-4b2c-b947-ca32c68a366e",
   "metadata": {},
   "outputs": [],
   "source": [
    "# 分解（singleの場合、整形のみ）\n",
    "\n",
    "## 正規化\n",
    "raw_array = scipy.stats.zscore(df)\n",
    "\n",
    "## データの整形\n",
    "### default : SlideingWindow = 5\n",
    "raw_x, raw_y = my_function.sliding_window(raw_array)\n",
    "\n",
    "## データの分割\n",
    "raw_x_train, raw_x_test, raw_y_train, raw_y_test = train_test_split(raw_x, raw_y, test_size=0.1, shuffle=False)"
   ]
  },
  {
   "cell_type": "code",
   "execution_count": 4,
   "id": "38ad7076-48bb-4bc0-92c0-adbb2747585d",
   "metadata": {},
   "outputs": [
    {
     "data": {
      "text/plain": [
       "array([[-2.66969717e+00],\n",
       "       [-2.64732452e+00],\n",
       "       [-2.62362513e+00],\n",
       "       [-2.22014910e+00],\n",
       "       [-2.13208768e+00],\n",
       "       [-2.60303336e+00],\n",
       "       [-3.05197037e+00],\n",
       "       [-3.38862199e+00],\n",
       "       [-3.14108998e+00],\n",
       "       [-2.76361157e+00],\n",
       "       [-2.38459800e+00],\n",
       "       [-2.27623604e+00],\n",
       "       [-2.33642408e+00],\n",
       "       [-2.64311603e+00],\n",
       "       [-2.42698853e+00],\n",
       "       [-1.78764783e+00],\n",
       "       [-1.61238371e+00],\n",
       "       [-2.17684684e+00],\n",
       "       [-2.77287416e+00],\n",
       "       [-3.35019813e+00],\n",
       "       [-2.93985449e+00],\n",
       "       [-2.26228699e+00],\n",
       "       [-1.85949442e+00],\n",
       "       [-1.75493999e+00],\n",
       "       [-1.90442441e+00],\n",
       "       [-1.97626844e+00],\n",
       "       [-2.09719283e+00],\n",
       "       [-1.48961743e+00],\n",
       "       [-1.38539106e+00],\n",
       "       [-1.70987426e+00],\n",
       "       [-2.22916629e+00],\n",
       "       [-2.92048584e+00],\n",
       "       [-2.56978590e+00],\n",
       "       [-2.06404953e+00],\n",
       "       [-1.67682881e+00],\n",
       "       [-1.57251768e+00],\n",
       "       [-1.82289772e+00],\n",
       "       [-2.03390512e+00],\n",
       "       [-1.47464778e+00],\n",
       "       [-1.06627492e+00],\n",
       "       [-3.17216591e-01],\n",
       "       [-1.12127287e+00],\n",
       "       [-1.40093448e+00],\n",
       "       [-2.56478915e+00],\n",
       "       [-2.10548491e+00],\n",
       "       [-1.75571903e+00],\n",
       "       [-1.63125842e+00],\n",
       "       [-9.92085739e-01],\n",
       "       [-8.16318924e-01],\n",
       "       [-9.47938202e-01],\n",
       "       [-1.08856413e+00],\n",
       "       [-6.30905396e-01],\n",
       "       [ 3.09704705e-01],\n",
       "       [-3.28274940e-01],\n",
       "       [-4.58209699e-01],\n",
       "       [-2.15117200e+00],\n",
       "       [-2.00769550e+00],\n",
       "       [-1.65707564e+00],\n",
       "       [-1.86208609e+00],\n",
       "       [-1.03835959e+00],\n",
       "       [-1.15131531e+00],\n",
       "       [-9.74847833e-01],\n",
       "       [-9.70620576e-01],\n",
       "       [ 1.04728999e-01],\n",
       "       [ 8.79364389e-01],\n",
       "       [ 3.86790997e-01],\n",
       "       [-4.08640860e-03],\n",
       "       [-1.78885533e+00],\n",
       "       [-1.61298541e+00],\n",
       "       [-9.29046937e-01],\n",
       "       [-1.13110005e+00],\n",
       "       [-3.87258587e-01],\n",
       "       [-3.68803865e-01],\n",
       "       [-7.29270988e-01],\n",
       "       [-3.42986692e-01],\n",
       "       [ 1.08720058e+00],\n",
       "       [ 2.02384685e+00],\n",
       "       [ 1.59409041e+00],\n",
       "       [ 9.38886059e-01],\n",
       "       [-1.03867526e+00],\n",
       "       [-5.00911935e-01],\n",
       "       [-1.24774489e-01],\n",
       "       [-5.28276199e-01],\n",
       "       [ 7.72282107e-01],\n",
       "       [ 4.40562516e-01],\n",
       "       [ 5.72700765e-02],\n",
       "       [ 1.05765431e+00],\n",
       "       [ 1.91612938e+00],\n",
       "       [ 3.34124852e+00],\n",
       "       [ 1.97999401e+00],\n",
       "       [ 1.28023000e+00],\n",
       "       [-1.24252624e-01],\n",
       "       [-1.48913042e-03],\n",
       "       [ 6.93395782e-01],\n",
       "       [-2.65470871e-01],\n",
       "       [ 1.65029030e+00],\n",
       "       [ 1.10737058e+00],\n",
       "       [ 8.04867116e-01],\n",
       "       [ 2.04960554e+00],\n",
       "       [ 2.52792473e+00],\n",
       "       [ 4.10112134e+00],\n",
       "       [ 2.22854213e+00],\n",
       "       [ 1.49634524e+00],\n",
       "       [ 4.41493639e-01],\n",
       "       [ 5.21051017e-01],\n",
       "       [ 1.27898867e+00],\n",
       "       [ 4.45053750e-01],\n",
       "       [ 1.83879718e+00],\n",
       "       [ 1.20845596e+00],\n",
       "       [ 9.36876324e-01],\n",
       "       [ 1.91140193e+00],\n",
       "       [ 2.40738324e+00],\n",
       "       [ 4.54548951e+00],\n",
       "       [ 2.18307529e+00],\n",
       "       [ 1.79236024e+00],\n",
       "       [ 4.00189999e-01],\n",
       "       [ 4.37440726e-01],\n",
       "       [ 1.53627004e+00],\n",
       "       [ 4.70197382e-01],\n",
       "       [ 2.70224455e+00],\n",
       "       [ 1.92804884e+00],\n",
       "       [ 2.41690559e+00],\n",
       "       [ 2.67620741e+00],\n",
       "       [ 3.61086803e+00],\n",
       "       [ 4.55349084e+00]])"
      ]
     },
     "execution_count": 4,
     "metadata": {},
     "output_type": "execute_result"
    }
   ],
   "source": [
    "# 学習\n",
    "\n",
    "## 処理前の時刻\n",
    "t1 = time.time() \n",
    "\n",
    "## ハイパーパラメータ\n",
    "N_x = 10\n",
    "\n",
    "## 単体学習\n",
    "### ESN\n",
    "esn_model = ESN(raw_x_train.shape[1], 1, N_x, density=0.05, input_scale=1.0, rho=0.8, leaking_rate=1.0)\n",
    "esn_model.train(raw_x_train, raw_y_train, Tikhonov(N_x, 1, 0.0))"
   ]
  },
  {
   "cell_type": "code",
   "execution_count": 5,
   "id": "425e976c-6eb5-4c28-b37e-0ebeaf15b5b5",
   "metadata": {},
   "outputs": [],
   "source": [
    "# 予測\n",
    "\n",
    "## 単体予測\n",
    "esn_pred = esn_model.predict(raw_x_test).reshape(-1, 1)\n",
    "\n",
    "## 処理後の時刻\n",
    "t2 = time.time()"
   ]
  },
  {
   "cell_type": "code",
   "execution_count": 6,
   "id": "ec392ebc-dab0-4721-94ec-eb07f8aa43da",
   "metadata": {},
   "outputs": [
    {
     "name": "stdout",
     "output_type": "stream",
     "text": [
      "時間：0.03271198272705078\n",
      "MSE：0.6596357363186702\n",
      "RMSE：0.8121796207235628\n",
      "KLD：7.281842221658257\n"
     ]
    },
    {
     "data": {
      "image/png": "[encoded data removed]",
      "text/plain": [
       "<Figure size 432x288 with 1 Axes>"
      ]
     },
     "metadata": {
      "needs_background": "light"
     },
     "output_type": "display_data"
    }
   ],
   "source": [
    "# 評価\n",
    "\n",
    "## 学習時間\n",
    "print(f\"時間：{t2-t1}\")\n",
    "\n",
    "## 予測精度\n",
    "print(f\"MSE：{my_function.calc_mse(esn_pred, raw_y_test)}\")\n",
    "print(f\"RMSE：{my_function.calc_rmse(esn_pred, raw_y_test)}\")\n",
    "print(f\"KLD：{my_function.calc_kld(esn_pred, raw_y_test)}\")\n",
    "\n",
    "## esn\n",
    "plt.figure()\n",
    "plt.plot(raw_y, label='raw')\n",
    "plt.plot(esn_model.predict(raw_x_train).reshape(-1, 1), label='pred')\n",
    "plt.plot(range((len(raw_y)-len(esn_pred)),len(raw_y)),esn_pred, label='feature_pred')\n",
    "plt.legend()\n",
    "plt.show()"
   ]
  },
  {
   "cell_type": "code",
   "execution_count": 7,
   "id": "d6a90914-4709-441f-ae93-93aaeada1359",
   "metadata": {},
   "outputs": [
    {
     "ename": "NameError",
     "evalue": "name 'cart_model' is not defined",
     "output_type": "error",
     "traceback": [
      "\u001b[1;31m---------------------------------------------------------------------------\u001b[0m",
      "\u001b[1;31mNameError\u001b[0m                                 Traceback (most recent call last)",
      "\u001b[1;32m~\\AppData\\Local\\Temp/ipykernel_11164/1221701246.py\u001b[0m in \u001b[0;36m<module>\u001b[1;34m\u001b[0m\n\u001b[0;32m      4\u001b[0m \u001b[0mplt\u001b[0m\u001b[1;33m.\u001b[0m\u001b[0mfigure\u001b[0m\u001b[1;33m(\u001b[0m\u001b[0mfigsize\u001b[0m\u001b[1;33m=\u001b[0m\u001b[1;33m(\u001b[0m\u001b[1;36m12\u001b[0m\u001b[1;33m,\u001b[0m\u001b[1;36m12\u001b[0m\u001b[1;33m)\u001b[0m\u001b[1;33m)\u001b[0m\u001b[1;33m\u001b[0m\u001b[1;33m\u001b[0m\u001b[0m\n\u001b[0;32m      5\u001b[0m plot_tree(\n\u001b[1;32m----> 6\u001b[1;33m     \u001b[0mcart_model\u001b[0m\u001b[1;33m,\u001b[0m\u001b[1;33m\u001b[0m\u001b[1;33m\u001b[0m\u001b[0m\n\u001b[0m\u001b[0;32m      7\u001b[0m     \u001b[0mfilled\u001b[0m\u001b[1;33m=\u001b[0m\u001b[1;32mTrue\u001b[0m\u001b[1;33m,\u001b[0m \u001b[0mrounded\u001b[0m\u001b[1;33m=\u001b[0m\u001b[1;32mTrue\u001b[0m\u001b[1;33m\u001b[0m\u001b[1;33m\u001b[0m\u001b[0m\n\u001b[0;32m      8\u001b[0m )\n",
      "\u001b[1;31mNameError\u001b[0m: name 'cart_model' is not defined"
     ]
    },
    {
     "data": {
      "text/plain": [
       "<Figure size 864x864 with 0 Axes>"
      ]
     },
     "metadata": {},
     "output_type": "display_data"
    }
   ],
   "source": [
    "from sklearn.tree import DecisionTreeRegressor,plot_tree\n",
    "\n",
    "## CART\n",
    "plt.figure(figsize=(12,12))\n",
    "plot_tree(\n",
    "    cart_model,\n",
    "    filled=True, rounded=True\n",
    ")\n",
    "plt.show()"
   ]
  },
  {
   "cell_type": "code",
   "execution_count": null,
   "id": "20136828-05e6-41f6-bc18-88f5bf365424",
   "metadata": {},
   "outputs": [],
   "source": []
  }
 ],
 "metadata": {
  "kernelspec": {
   "display_name": "Python 3 (ipykernel)",
   "language": "python",
   "name": "python3"
  },
  "language_info": {
   "codemirror_mode": {
    "name": "ipython",
    "version": 3
   },
   "file_extension": ".py",
   "mimetype": "text/x-python",
   "name": "python",
   "nbconvert_exporter": "python",
   "pygments_lexer": "ipython3",
   "version": "3.9.7"
  }
 },
 "nbformat": 4,
 "nbformat_minor": 5
}
