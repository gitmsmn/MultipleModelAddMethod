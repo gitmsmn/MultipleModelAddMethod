{
 "cells": [
  {
   "cell_type": "code",
   "execution_count": null,
   "id": "eb354049-5eb5-4299-ba92-b129d100e76f",
   "metadata": {},
   "outputs": [],
   "source": [
    "# ライブラリインポート"
   ]
  },
  {
   "cell_type": "code",
   "execution_count": null,
   "id": "72376d9b-33ed-4a3e-b1aa-26323e2663b0",
   "metadata": {},
   "outputs": [],
   "source": [
    "# データ読み込み"
   ]
  },
  {
   "cell_type": "code",
   "execution_count": null,
   "id": "7479eb4c-4797-4b2c-b947-ca32c68a366e",
   "metadata": {},
   "outputs": [],
   "source": [
    "# 分解"
   ]
  },
  {
   "cell_type": "code",
   "execution_count": null,
   "id": "38ad7076-48bb-4bc0-92c0-adbb2747585d",
   "metadata": {},
   "outputs": [],
   "source": [
    "# 単体予測"
   ]
  },
  {
   "cell_type": "code",
   "execution_count": null,
   "id": "425e976c-6eb5-4c28-b37e-0ebeaf15b5b5",
   "metadata": {},
   "outputs": [],
   "source": [
    "# 結合予測"
   ]
  },
  {
   "cell_type": "code",
   "execution_count": null,
   "id": "ec392ebc-dab0-4721-94ec-eb07f8aa43da",
   "metadata": {},
   "outputs": [],
   "source": [
    "# 評価"
   ]
  }
 ],
 "metadata": {
  "kernelspec": {
   "display_name": "Python 3 (ipykernel)",
   "language": "python",
   "name": "python3"
  },
  "language_info": {
   "codemirror_mode": {
    "name": "ipython",
    "version": 3
   },
   "file_extension": ".py",
   "mimetype": "text/x-python",
   "name": "python",
   "nbconvert_exporter": "python",
   "pygments_lexer": "ipython3",
   "version": "3.10.10"
  }
 },
 "nbformat": 4,
 "nbformat_minor": 5
}
